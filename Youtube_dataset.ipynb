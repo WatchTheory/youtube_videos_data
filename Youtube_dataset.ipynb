{
  "nbformat": 4,
  "nbformat_minor": 0,
  "metadata": {
    "colab": {
      "provenance": [],
      "mount_file_id": "1Sb2OvffxGP2Zn2rmsPkfUiurPh8hBmvq",
      "authorship_tag": "ABX9TyOzKmKW4bqHyn+VTVX0Dh6f",
      "include_colab_link": true
    },
    "kernelspec": {
      "name": "python3",
      "display_name": "Python 3"
    },
    "language_info": {
      "name": "python"
    }
  },
  "cells": [
    {
      "cell_type": "markdown",
      "metadata": {
        "id": "view-in-github",
        "colab_type": "text"
      },
      "source": [
        "<a href=\"https://colab.research.google.com/github/WatchTheory/youtube_videos_data/blob/main/Youtube_dataset.ipynb\" target=\"_parent\"><img src=\"https://colab.research.google.com/assets/colab-badge.svg\" alt=\"Open In Colab\"/></a>"
      ]
    },
    {
      "cell_type": "code",
      "execution_count": 1,
      "metadata": {
        "id": "qbwXGmnw8BqU"
      },
      "outputs": [],
      "source": [
        "from google.colab import sheets    # importing from google\n",
        "\n",
        "import pandas as pd\n",
        "import numpy as n\n",
        "\n",
        "# importing libraries"
      ]
    },
    {
      "cell_type": "code",
      "source": [
        "# # Replace with your google sheet's URL\n",
        "sheet_url = \"https://docs.google.com/spreadsheets/d/1XLcXdxDoBiMI-tPbFEXKlnWJuSZa7OO9-eS6EjFXzh8/edit?gid=1402754447#gid=1402754447\"\n",
        "sheet = sheets.InteractiveSheet(url=sheet_url)            # Create interactive shees with url\n",
        "\n",
        "# Convert the sheet data to a Pandas DataFrame\n",
        "roman_dataset = sheet.as_df()"
      ],
      "metadata": {
        "id": "JmMWtqq_8DUH"
      },
      "execution_count": null,
      "outputs": []
    },
    {
      "cell_type": "code",
      "source": [
        "# Convert the sheet data to a Pandas DataFrame\n",
        "yt_data = sheet.as_df()"
      ],
      "metadata": {
        "id": "qSvdD07W8M09"
      },
      "execution_count": 3,
      "outputs": []
    },
    {
      "cell_type": "code",
      "source": [],
      "metadata": {
        "id": "TuEhjdzz8FYo"
      },
      "execution_count": null,
      "outputs": []
    }
  ]
}